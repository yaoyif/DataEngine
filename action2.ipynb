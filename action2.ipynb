{
 "cells": [
  {
   "cell_type": "code",
   "execution_count": 26,
   "metadata": {},
   "outputs": [
    {
     "name": "stdout",
     "output_type": "stream",
     "text": [
      "平均成绩是\n",
      "语文    86.2\n",
      "数学    81.0\n",
      "英语    76.6\n",
      "dtype: float64\n",
      "最小成绩是\n",
      "语文    68\n",
      "数学    65\n",
      "英语    30\n",
      "dtype: int64\n",
      "最大成绩是\n",
      "语文    98\n",
      "数学    90\n",
      "英语    98\n",
      "dtype: int64\n",
      "成绩方差是\n",
      "语文    150.2\n",
      "数学    109.0\n",
      "英语    734.8\n",
      "dtype: float64\n",
      "成绩标准差是\n",
      "语文    12.255611\n",
      "数学    10.440307\n",
      "英语    27.107195\n",
      "dtype: float64\n",
      "    语文  数学  英语  总成绩\n",
      "刘备  98  86  88  272\n",
      "关羽  95  76  98  269\n",
      "许褚  80  90  90  260\n",
      "典韦  90  88  77  255\n",
      "张飞  68  65  30  163\n"
     ]
    }
   ],
   "source": [
    "from pandas import Series, DataFrame\n",
    "data = {'语文': [68, 95, 98, 90,80], '数学': [65, 76, 86, 88, 90], '英语': [30, 98, 88, 77, 90]}\n",
    "df1 = DataFrame(data)\n",
    "df2 = DataFrame(data, index=['张飞', '关羽', '刘备', '典韦', '许褚'], columns=['语文', '数学', '英语'])\n",
    "print(\"平均成绩是\")\n",
    "print(df2.mean())\n",
    "print(\"最小成绩是\")\n",
    "print(df2.min())\n",
    "print(\"最大成绩是\")\n",
    "print(df2.max())\n",
    "print(\"成绩方差是\")\n",
    "print(df2.var())\n",
    "print(\"成绩标准差是\")\n",
    "print(df2.std())\n",
    "df2['总成绩']=df2.sum(axis=1)\n",
    "print(df2.sort_values('总成绩',ascending=False))"
   ]
  },
  {
   "cell_type": "code",
   "execution_count": null,
   "metadata": {},
   "outputs": [],
   "source": []
  }
 ],
 "metadata": {
  "kernelspec": {
   "display_name": "Python 3",
   "language": "python",
   "name": "python3"
  },
  "language_info": {
   "codemirror_mode": {
    "name": "ipython",
    "version": 3
   },
   "file_extension": ".py",
   "mimetype": "text/x-python",
   "name": "python",
   "nbconvert_exporter": "python",
   "pygments_lexer": "ipython3",
   "version": "3.7.6"
  }
 },
 "nbformat": 4,
 "nbformat_minor": 4
}
