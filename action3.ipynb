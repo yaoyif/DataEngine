{
 "cells": [
  {
   "cell_type": "code",
   "execution_count": 3,
   "metadata": {},
   "outputs": [
    {
     "name": "stdout",
     "output_type": "stream",
     "text": [
      "brand\n",
      "一汽马自达    47.500000\n",
      "吉利汽车      9.600000\n",
      "一汽-大众     8.666667\n",
      "一汽大众      6.000000\n",
      "广汽丰田      5.666667\n",
      "           ...    \n",
      "雷克萨斯      1.000000\n",
      "华晨鑫源      1.000000\n",
      "北汽昌河      1.000000\n",
      "北汽新能源     1.000000\n",
      "绵阳金杯      1.000000\n",
      "Length: 75, dtype: float64\n",
      "平均被投诉最多的品牌为: 一汽马自达\n"
     ]
    }
   ],
   "source": [
    "#统计哪个品牌被投诉最多\n",
    "import numpy as np\n",
    "import pandas as pd\n",
    "df=pd.read_csv('car_complain.csv')\n",
    "newdic={}\n",
    "for i in range(df.shape[1]):\n",
    "    if df.columns[i]!='problem':\n",
    "        newdic[df.columns[i]]=df.iloc[:,i].repeat(df['problem'].str.rstrip(',').str.split(',',).str.len()).values\n",
    "    else:\n",
    "        newdic[df.columns[i]]=np.concatenate(df['problem'].str.rstrip(',').str.split(',').values)\n",
    "newdf=pd.DataFrame(newdic)\n",
    "\n",
    "tongji=newdf.groupby('brand').agg({'id':'nunique','car_model':'nunique'})\n",
    "s=tongji['id']/tongji['car_model']\n",
    "NumOfProblemsPerCar=pd.Series(s).sort_values(ascending=False)\n",
    "print(NumOfProblemsPerCar)\n",
    "print('平均被投诉最多的品牌为:',NumOfProblemsPerCar.index[0])"
   ]
  },
  {
   "cell_type": "code",
   "execution_count": null,
   "metadata": {},
   "outputs": [],
   "source": []
  }
 ],
 "metadata": {
  "kernelspec": {
   "display_name": "Python 3",
   "language": "python",
   "name": "python3"
  },
  "language_info": {
   "codemirror_mode": {
    "name": "ipython",
    "version": 3
   },
   "file_extension": ".py",
   "mimetype": "text/x-python",
   "name": "python",
   "nbconvert_exporter": "python",
   "pygments_lexer": "ipython3",
   "version": "3.7.6"
  }
 },
 "nbformat": 4,
 "nbformat_minor": 4
}
